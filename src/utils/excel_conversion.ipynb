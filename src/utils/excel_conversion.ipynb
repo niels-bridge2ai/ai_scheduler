import pandas as pd

# Read the Excel file; adjust the sheet_name if needed.
df = pd.read_excel('file.xlsx', sheet_name='Sheet1')

# Convert the DataFrame to JSON. The 'records' orientation creates a list of objects.
df.to_json('file.json', orient='records', indent=2)